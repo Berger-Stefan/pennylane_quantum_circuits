{
 "cells": [
  {
   "cell_type": "code",
   "execution_count": 20,
   "metadata": {},
   "outputs": [
    {
     "name": "stdout",
     "output_type": "stream",
     "text": [
      "Compiling model...\n",
      "'compile' took 0.000447 s\n",
      "\n"
     ]
    },
    {
     "name": "stdout",
     "output_type": "stream",
     "text": [
      "Training model...\n",
      "\n",
      "0         [1.54e+01, 5.62e+00]    [1.54e+01, 5.62e+00]    [9.93e+00]    \n",
      "1000      [6.64e-03, 1.31e-06]    [6.53e-03, 1.31e-06]    [5.40e+00]    \n",
      "2000      [9.51e-04, 1.09e-07]    [9.35e-04, 1.09e-07]    [5.40e+00]    \n",
      "3000      [4.55e-05, 6.37e-08]    [4.44e-05, 6.38e-08]    [5.40e+00]    \n",
      "4000      [1.32e-05, 1.38e-07]    [1.27e-05, 1.38e-07]    [5.40e+00]    \n",
      "5000      [1.24e-04, 3.56e-05]    [1.21e-04, 3.56e-05]    [5.39e+00]    \n",
      "6000      [2.24e-05, 7.29e-07]    [2.19e-05, 7.28e-07]    [5.40e+00]    \n",
      "7000      [3.57e-04, 1.47e-05]    [3.51e-04, 1.47e-05]    [5.39e+00]    \n",
      "8000      [9.52e-05, 4.89e-04]    [9.23e-05, 4.89e-04]    [5.40e+00]    \n",
      "9000      [2.16e-03, 1.64e-04]    [2.12e-03, 1.64e-04]    [5.40e+00]    \n",
      "10000     [7.18e-05, 1.73e-05]    [7.02e-05, 1.73e-05]    [5.40e+00]    \n",
      "\n",
      "Best model at step 4000:\n",
      "  train loss: 1.33e-05\n",
      "  test loss: 1.29e-05\n",
      "  test metric: [5.40e+00]\n",
      "\n",
      "'train' took 56.683757 s\n",
      "\n"
     ]
    },
    {
     "data": {
      "text/plain": [
       "<matplotlib.legend.Legend at 0x25f21ee1940>"
      ]
     },
     "execution_count": 20,
     "metadata": {},
     "output_type": "execute_result"
    },
    {
     "data": {
      "image/png": "[encoded data removed]",
      "text/plain": [
       "<Figure size 640x480 with 1 Axes>"
      ]
     },
     "metadata": {},
     "output_type": "display_data"
    }
   ],
   "source": [
    "import deepxde as dde\n",
    "from deepxde.backend import tf\n",
    "import numpy as np\n",
    "from scipy.integrate import solve_ivp\n",
    "import torch\n",
    "import math\n",
    "\n",
    "#dde.optimizers.set_LBFGS_options(maxiter=500)\n",
    "\n",
    "geom = dde.geometry.TimeDomain(0, 0.9)\n",
    "\n",
    "def derivatives_fnc(t, u):\n",
    "    # if isinstance(t, torch.Tensor):\n",
    "    #     du_dt = 4*u - 6*u**2 + torch.sin(50*t) + u*torch.cos(25*t) - 0.5\n",
    "    # else:\n",
    "    #     du_dt = 4*u - 6*u**2 + math.sin(50*t) + u*math.cos(25*t) - 0.5\n",
    "    # return du_dt\n",
    "    if isinstance(t, torch.Tensor):\n",
    "        du_dt = 4 \n",
    "    else:\n",
    "        du_dt = 4\n",
    "    return du_dt\n",
    "\n",
    "\n",
    "def function_res(t, u):\n",
    "    du_dt = dde.grad.jacobian(u, t)\n",
    "    res = du_dt - derivatives_fnc(t,u[0])\n",
    "    return res\n",
    "\n",
    "def boundary(x, _):\n",
    "    return dde.utils.isclose(x[0], 0)\n",
    "\n",
    "def boundary_value(x):\n",
    "    return 0.75\n",
    "\n",
    "bc = dde.icbc.IC(geom, boundary_value, boundary)\n",
    "\n",
    "analytical_solution = solve_ivp(derivatives_fnc, [0,0.9], [0.75], dense_output=True)\n",
    "\n",
    "def sol(t):\n",
    "    return analytical_solution.sol(t.squeeze())\n",
    "\n",
    "data = dde.data.PDE(geom, function_res, bc, 1000, 1, solution=sol, num_test=100)\n",
    "\n",
    "layer_size = [1] + [150] * 6 + [1]\n",
    "activation = \"tanh\"\n",
    "initializer = \"Glorot uniform\"\n",
    "net = dde.nn.FNN(layer_size, activation, initializer)\n",
    "\n",
    "boundary_scaling = 10.0\n",
    "\n",
    "model = dde.Model(data, net)\n",
    "model.compile(\"adam\", lr=0.001, metrics=[\"l2 relative error\"], loss_weights=[1,boundary_scaling])\n",
    "# model.compile(\"L-BFGS\", metrics=[\"l2 relative error\"], loss_weights=[1,boundary_scaling])\n",
    "\n",
    "class PrintLossCallback(dde.callbacks.Callback):\n",
    "    \"\"\"\n",
    "    Custom callback\n",
    "    \"\"\"  \n",
    "    def __init__(self):\n",
    "        super().__init__()\n",
    "\n",
    "    def on_epoch_end(self):\n",
    "        pass\n",
    "        #print(\"Loss\")\n",
    "            \n",
    "print_loss_callback = PrintLossCallback()\n",
    "timer_callback = dde.callbacks.Timer(10)\n",
    "\n",
    "#losshistory, train_state = model.train( callbacks=[timer_callback, print_loss_callback])\n",
    "losshistory, train_state = model.train(iterations=10000)\n",
    "\n",
    "#dde.saveplot(losshistory, train_state, issave=False, isplot=True)\n",
    "\n",
    "import matplotlib.pyplot as plt\n",
    "\n",
    "t = np.linspace(0,0.9,100)\n",
    "u_pred = [model.predict([i]) for i in t]\n",
    "plt.plot(t, u_pred)\n",
    "plt.plot(t, sol(t).T)\n",
    "plt.legend([\"approx\",\"analytical\"])"
   ]
  },
  {
   "cell_type": "code",
   "execution_count": null,
   "metadata": {},
   "outputs": [],
   "source": []
  },
  {
   "cell_type": "code",
   "execution_count": null,
   "metadata": {},
   "outputs": [],
   "source": []
  }
 ],
 "metadata": {
  "kernelspec": {
   "display_name": "Python 3",
   "language": "python",
   "name": "python3"
  },
  "language_info": {
   "codemirror_mode": {
    "name": "ipython",
    "version": 3
   },
   "file_extension": ".py",
   "mimetype": "text/x-python",
   "name": "python",
   "nbconvert_exporter": "python",
   "pygments_lexer": "ipython3",
   "version": "3.11.8"
  }
 },
 "nbformat": 4,
 "nbformat_minor": 2
}
